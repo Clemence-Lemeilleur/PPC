{
 "cells": [
  {
   "cell_type": "markdown",
   "metadata": {},
   "source": [
    "# Tutorial 1 - Introduction to Constraint Programming\n",
    "## In other words, get ready to have your mind blown.. \n"
   ]
  },
  {
   "cell_type": "markdown",
   "metadata": {},
   "source": [
    "## Introduction & Context\n",
    "\n",
    "\n",
    "Constraint Programming is a rich declarative approach to solve combinatorial problems. This approach has been used to solve diverse real word applications such as scheduling, timetabling, planning, routing, supply chain, clustreing, data mining, classification, etc. See for instance https://www.a4cp.org/node/1281.\n",
    "\n",
    "    \n",
    "Constraint programming can be used to solve decision or optimisation problems. In both families, a problem must be stated as : \n",
    "- A set of variables (the unkown of the problem). Each variable $x$ is associated to a set of values $D(x)$ that is called to domain of $x$. The latter represents the possible values that $x$ can take. We will be using mostly integer finite variables. That is, a type of variables whose domain is a finite subset of  $\\mathbb{Z}$\n",
    "- A set of constraints. Each constraint restrics the possible combinantion of values allowed by the different varialbes in the scope of the constraint. For instance, the constraint $x<y$ restrics the value assigned to x to be less than the value assigned to y\n",
    "\n",
    "A constraint can be seen as a (sub-)problem itself. In that sence, a problem can be defined as a conjunction of smaller problems. \n",
    "\n",
    "\n",
    "In a decision problem, for each variable $x$, the task is to assign a value from $\\cal D(x)$ to $x$ such that every constraint is satisfied. In an opptimisation problem, the purpose is exactly the same, however, among all the possible solutions, we look for one that minimises or maximizes an objective function. \n",
    "\n",
    "We will be working on both decision and optimition problems. Throughout these tutorials, we focus on the modelling aspect of constraint programming along with a solid understanding of what is happening within a solver. \n",
    "\n",
    "\n",
    "We find many constraint solvers in the literature that are developped by both acamemics (for instance http://www.choco-solver.org/, miniCP http://www.minicp.org/, and GeCode https://www.gecode.org/) and industrials (for instance Google OR Tools https://developers.google.com/optimization and IBM ILOG CPLEX CP Optimizer https://www.ibm.com/products/ilog-cplex-optimization-studio). \n",
    "\n",
    "For an up-to-date list of solvers, you can have a look at the following two annual solver competitions: \n",
    "- Minizinc Challenge https://www.minizinc.org/challenge.html : the list of solvers can be found here https://www.minizinc.org/challenge2019/results2019.html\n",
    "- http://xcsp.org/competition some  solvers can be found here http://www.cril.univ-artois.fr/XCSP19/results/results.php?idev=99 \n",
    "\n"
   ]
  },
  {
   "cell_type": "markdown",
   "metadata": {},
   "source": [
    "## CpOptimizer\n",
    "\n",
    "\n",
    "In these tutorials, we will be using [IBM ILOG CPLEX CP Optimizer](https://www.ibm.com/analytics/cplex-cp-optimizer). This tool is an industrial constraint programming solver developped by IBM (previously [ILOG](https://en.wikipedia.org/wiki/ILOG)). The solver supports many programming languages and plateforms. We will be using a python interface called docplex. \n",
    "\n",
    "\n",
    "### `docplex` - A python interface to CpOptimizer\n",
    "\n",
    "`docplex` is a python package that can be used to solve constraint programming problems in python using either:\n",
    "\n",
    "- a local installation of CpOptimizer;\n",
    "- a cloud version of CpOptimizer (requires an account and credentials from IBM).\n",
    "\n",
    "While being less versatile than the C++ interface of CpOptimizer, it is much easier and much more convenient to use.\n",
    "\n",
    "Throughout the different tutorials, you are required to consult regularly the documentation [`docplex` constraint programming documentation](http://ibmdecisionoptimization.github.io/docplex-doc/cp/index.html).\n",
    "\n",
    "\n",
    "*Note: While `docplex` is a python interface developped by IBM/ILOG and dedicated to `CpOptimizer` and `Cplex`, there are other interfaces that can be used to model and solve optimization problems in python using various backends such as Numberjack https://github.com/eomahony/Numberjack\n",
    "\n",
    "\n",
    "### Working locally (<font color='red'>DON'T DO THIS DURING THE TUTORIALS</font> )\n",
    "\n",
    "If you want to install the solver locally you need to request an academic liscence and follow the installation step (a bit tidious). Once it's installed you'll need to chance the init file in the config folder to include your path. \n",
    " \n",
    "\n",
    "\n",
    "### <font color='blue'>Few things</font>\n",
    "\n",
    "Keep in mind that you are expected to read the documentation along the way. You will be trained to be autonomous. You will code everything by yourself. You can of course discuss with your friends but the work is individual. Your teacher is there to help on the modelling and high-level aspect of CP, not the technical details. \n",
    "\n",
    "\n",
    "\n",
    "### <font color='red'>Let's get started!</font>"
   ]
  },
  {
   "cell_type": "markdown",
   "metadata": {},
   "source": [
    "## HELLO CP! \n",
    "\n",
    "First, you need to run the following python statements at the beginning of each notebook (and every time you restart a notebook). If you see a warning message, you need to run it again. "
   ]
  },
  {
   "cell_type": "code",
   "execution_count": 1,
   "metadata": {},
   "outputs": [],
   "source": [
    "#Make sure that you update the variable os.environ['PATH'] in the config/__init__.py file\n",
    "from config import setup\n",
    "setup()"
   ]
  },
  {
   "cell_type": "markdown",
   "metadata": {},
   "source": [
    "**Exercice 1**: Create a simple model using `docplex` with:\n",
    "\n",
    "- 3 variables $x$, $y$, $z$\n",
    "- the same domain $\\cal{D} = \\left\\{1, 2, 3\\right\\}$ for each variable\n",
    "- the following constraints: $x \\ne y$, $x \\ne z$, $y \\ne z$\n",
    "\n",
    "The first step is to import the following\n",
    "\n",
    "```python\n",
    "from docplex.cp.model import *\n",
    "from docplex.cp.config import get_default\n",
    "```\n",
    "\n",
    "**Step by step guidance**:\n",
    "\n",
    "To create the model :  \n",
    "```python\n",
    "mdl = CpoModel(name='My first docplex model')\n",
    "```\n",
    "\n",
    "- Create variable using [`CpoModel.integer_var`](http://ibmdecisionoptimization.github.io/docplex-doc/cp/docplex.cp.expression.py.html#docplex.cp.expression.integer_var), [`CpoModel.integer_var_list`](http://ibmdecisionoptimization.github.io/docplex-doc/cp/docplex.cp.expression.py.html#docplex.cp.expression.integer_var_list) or [`CpoModel.integer_var_dict`](http://ibmdecisionoptimization.github.io/docplex-doc/cp/docplex.cp.expression.py.html#docplex.cp.expression.integer_var_dict).\n",
    "\n",
    "For instance: \n",
    "```python\n",
    "x, y, z = mdl.integer_var_list(3, 1, 3, 'x')\n",
    "```\n",
    "\n",
    "- Add constraints using [`CpoModel.add`](http://ibmdecisionoptimization.github.io/docplex-doc/cp/docplex.cp.model.py.html#docplex.cp.model.CpoModel.add) using the common $!=$ logical expression.\n",
    "\n",
    "```python\n",
    "mdl.add(x != y)\n",
    "```"
   ]
  },
  {
   "cell_type": "code",
   "execution_count": 2,
   "metadata": {},
   "outputs": [],
   "source": [
    "## install docplex first with $pip install docplex\n",
    "from docplex.cp.model import *\n",
    "from docplex.cp.config import get_default\n",
    "\n",
    "##Complete Here\n",
    "mdl = CpoModel(name='My first docplex model')\n",
    "\n",
    "x, y, z = mdl.integer_var_list(3, 1, 3, 'x')\n",
    "\n",
    "##print(x,y,z)\n",
    "\n",
    "mdl.add(x != y)\n",
    "mdl.add(x != z)\n",
    "mdl.add(y != z)\n"
   ]
  },
  {
   "cell_type": "markdown",
   "metadata": {},
   "source": [
    "**Exercice**: Solve the model you just created (see `CpoModel.solve()`) and print the solution found.\n",
    "\n",
    "**Tips**: \n",
    "\n",
    "- Use [`CpoModel.solve`](http://ibmdecisionoptimization.github.io/docplex-doc/cp/docplex.cp.model.py.html#docplex.cp.model.CpoModel.solve) to solve the model:\n",
    "\n",
    "```python\n",
    "sol = mdl.solve()\n",
    "```\n",
    "\n",
    "- Use [`CpoSolveResult.print_solution`](http://ibmdecisionoptimization.github.io/docplex-doc/cp/docplex.cp.solution.py.html#docplex.cp.solution.CpoSolveResult.print_solution) to get an overview of the solution:\n",
    "\n",
    "```python\n",
    "sol.print_solution()\n",
    "```\n"
   ]
  },
  {
   "cell_type": "code",
   "execution_count": 3,
   "metadata": {},
   "outputs": [
    {
     "name": "stdout",
     "output_type": "stream",
     "text": [
      " ! ----------------------------------------------------------------------------\n",
      " ! Satisfiability problem - 3 variables, 3 constraints\n",
      " ! Workers              = 1\n",
      " ! Presolve             = Off\n",
      " ! SearchType           = DepthFirst\n",
      " ! Initial process time : 0.04s (0.04s extraction + 0.00s propagation)\n",
      " !  . Log search space  : 4.8 (before), 4.8 (after)\n",
      " !  . Memory usage      : 266.8 kB (before), 266.8 kB (after)\n",
      " ! Using sequential search.\n",
      " ! ----------------------------------------------------------------------------\n",
      " !               Branches  Non-fixed            Branch decision\n",
      " *                      2  0.04s                  2  = x_2\n",
      " ! ----------------------------------------------------------------------------\n",
      " ! Search completed, 1 solution found.\n",
      " ! ----------------------------------------------------------------------------\n",
      " ! Number of branches     : 2\n",
      " ! Number of fails        : 0\n",
      " ! Total memory usage     : 539.5 kB (499.9 kB CP Optimizer + 39.6 kB Concert)\n",
      " ! Time spent in solve    : 0.04s (0.00s engine + 0.04s extraction)\n",
      " ! Search speed (br. / s) : 200.0\n",
      " ! ----------------------------------------------------------------------------\n",
      "-------------------------------------------------------------------------------\n",
      "Model constraints: 3, variables: integer: 3, interval: 0, sequence: 0\n",
      "Solve status: Feasible\n",
      "Search status: SearchCompleted, stop cause: SearchHasNotBeenStopped\n",
      "Solve time: 0.04 sec\n",
      "-------------------------------------------------------------------------------\n",
      "Variables:\n",
      "   x_0 = 3\n",
      "   x_1 = 1\n",
      "   x_2 = 2\n"
     ]
    }
   ],
   "source": [
    "sol = mdl.solve()\n",
    "sol.print_solution()"
   ]
  },
  {
   "cell_type": "markdown",
   "metadata": {},
   "source": [
    "\n",
    "- Use [`CpoSolveResult.get_value`](http://ibmdecisionoptimization.github.io/docplex-doc/cp/docplex.cp.solution.py.html#docplex.cp.solution.CpoSolveResult.get_value) or `CpoSolveResult.__getitem__` to retrieve the value of a variable:\n",
    "\n",
    "```python\n",
    "value_of_x = sol.get_value('x_0')\n",
    "```\n",
    "Or\n",
    "```python\n",
    "value_of_x = sol[x]\n",
    "```\n",
    "                                   "
   ]
  },
  {
   "cell_type": "code",
   "execution_count": 4,
   "metadata": {},
   "outputs": [
    {
     "name": "stdout",
     "output_type": "stream",
     "text": [
      "3\n"
     ]
    }
   ],
   "source": [
    "value_of_x = sol[x]\n",
    "print(value_of_x)"
   ]
  },
  {
   "cell_type": "markdown",
   "metadata": {},
   "source": [
    "Consider again the solution objet sol. Use the sol.get_solver_log() to get the solver log at the end. Use \n",
    "sol.get_solver_infos() to get all the statistics about the run. \n",
    "\n",
    "Check the search status via sol.get_solve_status() \n",
    "\n",
    "What is the total running time of the algorithm ( sol.get_solver_infos()['TotalTime'])? ()\n",
    "\n",
    "How many decisions are made (sol.get_solver_infos()['NumberOfChoicePoints'] ) ? \n",
    "\n",
    "How many fails did the algorithm encounter ( sol.get_solver_infos()['NumberOfFails']) ? \n"
   ]
  },
  {
   "cell_type": "code",
   "execution_count": 5,
   "metadata": {},
   "outputs": [
    {
     "data": {
      "text/plain": [
       "0"
      ]
     },
     "execution_count": 5,
     "metadata": {},
     "output_type": "execute_result"
    }
   ],
   "source": [
    "sol.get_solver_log()\n",
    "sol.get_solver_infos()\n",
    "sol.get_solve_status()\n",
    "sol.get_solver_infos()['TotalTime']\n",
    "sol.get_solver_infos()['NumberOfChoicePoints']\n",
    "sol.get_solver_infos()['NumberOfFails']"
   ]
  },
  {
   "cell_type": "markdown",
   "metadata": {},
   "source": [
    "In the rest of the tutorials, we use 'nodes' or 'decisions' to talk about the the size of the search tree in terms of the choices made my the solver. "
   ]
  },
  {
   "cell_type": "markdown",
   "metadata": {},
   "source": [
    "**Question**: Is this the only possible solution? Print all possible solutions (see [`CpoModel.start_search`](http://ibmdecisionoptimization.github.io/docplex-doc/cp/docplex.cp.model.py.html#docplex.cp.model.CpoModel.start_search))."
   ]
  },
  {
   "cell_type": "code",
   "execution_count": 6,
   "metadata": {},
   "outputs": [
    {
     "name": "stdout",
     "output_type": "stream",
     "text": [
      " ! ----------------------------------------------------------------------------\n",
      " ! Satisfiability problem - 3 variables, 3 constraints\n",
      " ! Workers              = 1\n",
      " ! Presolve             = Off\n",
      " ! SearchType           = DepthFirst\n",
      " ! Initial process time : 0.00s (0.00s extraction + 0.00s propagation)\n",
      " !  . Log search space  : 4.8 (before), 4.8 (after)\n",
      " !  . Memory usage      : 266.8 kB (before), 266.8 kB (after)\n",
      " ! Using sequential search.\n",
      " ! ----------------------------------------------------------------------------\n",
      " !               Branches  Non-fixed            Branch decision\n",
      " *                      2  0.00s                  2  = x_2\n",
      "-------------------------------------------------------------------------------\n",
      "Model constraints: 3, variables: integer: 3, interval: 0, sequence: 0\n",
      "Solve status: Feasible\n",
      "Search status: SearchOngoing, stop cause: SearchHasNotBeenStopped\n",
      "Solve time: 0 sec\n",
      "-------------------------------------------------------------------------------\n",
      "Variables:\n",
      "   x_0 = 3\n",
      "   x_1 = 1\n",
      "   x_2 = 2\n",
      " *                      3  0.00s                  2 != x_2\n",
      "-------------------------------------------------------------------------------\n",
      "Model constraints: 3, variables: integer: 3, interval: 0, sequence: 0\n",
      "Solve status: Feasible\n",
      "Search status: SearchOngoing, stop cause: SearchHasNotBeenStopped\n",
      "Solve time: 0 sec\n",
      "-------------------------------------------------------------------------------\n",
      "Variables:\n",
      "   x_0 = 2\n",
      "   x_1 = 1\n",
      "   x_2 = 3\n",
      " *                      6  0.00s                  1  = x_2\n",
      "-------------------------------------------------------------------------------\n",
      "Model constraints: 3, variables: integer: 3, interval: 0, sequence: 0\n",
      "Solve status: Feasible\n",
      "Search status: SearchOngoing, stop cause: SearchHasNotBeenStopped\n",
      "Solve time: 0 sec\n",
      "-------------------------------------------------------------------------------\n",
      "Variables:\n",
      "   x_0 = 3\n",
      "   x_1 = 2\n",
      "   x_2 = 1\n",
      " *                      7  0.00s                  1 != x_2\n",
      "-------------------------------------------------------------------------------\n",
      "Model constraints: 3, variables: integer: 3, interval: 0, sequence: 0\n",
      "Solve status: Feasible\n",
      "Search status: SearchOngoing, stop cause: SearchHasNotBeenStopped\n",
      "Solve time: 0 sec\n",
      "-------------------------------------------------------------------------------\n",
      "Variables:\n",
      "   x_0 = 1\n",
      "   x_1 = 2\n",
      "   x_2 = 3\n",
      " *                      9  0.00s                  1  = x_2\n",
      "-------------------------------------------------------------------------------\n",
      "Model constraints: 3, variables: integer: 3, interval: 0, sequence: 0\n",
      "Solve status: Feasible\n",
      "Search status: SearchOngoing, stop cause: SearchHasNotBeenStopped\n",
      "Solve time: 0 sec\n",
      "-------------------------------------------------------------------------------\n",
      "Variables:\n",
      "   x_0 = 2\n",
      "   x_1 = 3\n",
      "   x_2 = 1\n",
      " *                     10  0.00s                  1 != x_2\n",
      "-------------------------------------------------------------------------------\n",
      "Model constraints: 3, variables: integer: 3, interval: 0, sequence: 0\n",
      "Solve status: Feasible\n",
      "Search status: SearchOngoing, stop cause: SearchHasNotBeenStopped\n",
      "Solve time: 0 sec\n",
      "-------------------------------------------------------------------------------\n",
      "Variables:\n",
      "   x_0 = 1\n",
      "   x_1 = 3\n",
      "   x_2 = 2\n",
      " ! ----------------------------------------------------------------------------\n",
      " ! Search completed, 6 solutions found.\n",
      " ! ----------------------------------------------------------------------------\n",
      " ! Number of branches     : 10\n",
      " ! Number of fails        : 0\n",
      " ! Total memory usage     : 539.9 kB (500.2 kB CP Optimizer + 39.6 kB Concert)\n",
      " ! Time spent in solve    : 0.00s (0.00s engine + 0.00s extraction)\n",
      " ! Search speed (br. / s) : 1000.0\n",
      " ! ----------------------------------------------------------------------------\n"
     ]
    }
   ],
   "source": [
    "lsols = mdl.start_search()\n",
    "for sol in lsols:\n",
    "    sol.write()"
   ]
  },
  {
   "cell_type": "markdown",
   "metadata": {},
   "source": [
    "# The AllDifferent Global Constraint\n"
   ]
  },
  {
   "cell_type": "markdown",
   "metadata": {},
   "source": [
    "We introduce in this section a magical concept in constraint programming called global constraints. A global constraint is any contstraint defined with a non-fixed arity. A global constraint in practice captures a sub-problem (or a pattern) that commonly occures in diverse problems. We will discover and understand the magic of global constraints step by step. "
   ]
  },
  {
   "cell_type": "markdown",
   "metadata": {},
   "source": [
    "**Exercice 2**: Consider the following CSP (Constraint Satisfaction Problem)\n",
    "\n",
    "- Variables $w$, $x$, $y$, $z$\n",
    "- Domains: $\\cal{D}(w) = \\cal{D}(x) = \\cal{D}(y) = \\cal{D}(z) =  \\{1, 2 \\}$ \n",
    "- Constraints: $w \\ne x$,$w \\ne y$,$w \\ne z$, $x \\ne y$, $x \\ne z$, $y \\ne z$\n"
   ]
  },
  {
   "cell_type": "markdown",
   "metadata": {},
   "source": [
    "Without using the solver, how many solutions are there for this problem? \n"
   ]
  },
  {
   "cell_type": "raw",
   "metadata": {},
   "source": [
    "0"
   ]
  },
  {
   "cell_type": "markdown",
   "metadata": {},
   "source": [
    "Using a pen and a paper, draw by hand the binary search tree with a lexicographical ordering for both variables and value under the following assumptions: \n",
    "- We assume that every decision is of the form \"Assign a value $v$ to a variable $x$\"\n",
    "- Before taking the next decision, make sure you filter/propagate all the constraints. That is, you look at each constraint individually and ask the question: can we remove a value from the current domain of a variable in the scope of the constraint? If so, such value is removed and the process is repeated until no more filtering can happen. \n",
    "\n",
    "\n",
    "\n",
    "You can upload a photo of your drawing in the notebook. \n",
    "Please check your drawing with your professor before moving to the next step! \n"
   ]
  },
  {
   "cell_type": "raw",
   "metadata": {},
   "source": []
  },
  {
   "cell_type": "markdown",
   "metadata": {},
   "source": [
    "How many decisions did you take? "
   ]
  },
  {
   "cell_type": "raw",
   "metadata": {},
   "source": []
  },
  {
   "cell_type": "markdown",
   "metadata": {},
   "source": [
    "\n",
    "\n",
    "\n",
    "Write the appropriate CP model (called model_1) and solve it. What is the size of the search tree explored? "
   ]
  },
  {
   "cell_type": "code",
   "execution_count": 7,
   "metadata": {},
   "outputs": [
    {
     "name": "stdout",
     "output_type": "stream",
     "text": [
      " ! ----------------------------------------------------------------------------\n",
      " ! Satisfiability problem - 4 variables, 6 constraints\n",
      " ! Workers              = 1\n",
      " ! Presolve             = Off\n",
      " ! SearchType           = DepthFirst\n",
      " ! Initial process time : 0.00s (0.00s extraction + 0.00s propagation)\n",
      " !  . Log search space  : 6.3 (before), 6.3 (after)\n",
      " !  . Memory usage      : 266.8 kB (before), 266.8 kB (after)\n",
      " ! Using sequential search.\n",
      " ! ----------------------------------------------------------------------------\n",
      " !               Branches  Non-fixed            Branch decision\n",
      " ! ----------------------------------------------------------------------------\n",
      " ! Search completed, model has no solution.\n",
      " ! ----------------------------------------------------------------------------\n",
      " ! Number of branches     : 10\n",
      " ! Number of fails        : 6\n",
      " ! Total memory usage     : 539.3 kB (499.5 kB CP Optimizer + 39.7 kB Concert)\n",
      " ! Time spent in solve    : 0.00s (0.00s engine + 0.00s extraction)\n",
      " ! Search speed (br. / s) : 1000.0\n",
      " ! ----------------------------------------------------------------------------\n",
      "-------------------------------------------------------------------------------\n",
      "Model constraints: 6, variables: integer: 4, interval: 0, sequence: 0\n",
      "Solve status: Infeasible\n",
      "Search status: SearchCompleted, stop cause: SearchHasNotBeenStopped\n",
      "Solve time: 0 sec\n",
      "-------------------------------------------------------------------------------\n",
      "No solution data\n"
     ]
    }
   ],
   "source": [
    "def model_1():\n",
    "    \n",
    "    ##Modele : \n",
    "    mdl = CpoModel(name='Modèle 1')\n",
    "    \n",
    "    ##Variables : \n",
    "    w, x, y, z = mdl.integer_var_list(4, 1, 3, 'x')\n",
    "    \n",
    "    ##Contraintes\n",
    "    mdl.add(w != x)\n",
    "    mdl.add(w != y)\n",
    "    mdl.add(w != z)\n",
    "    mdl.add(x != y)\n",
    "    mdl.add(x != z)\n",
    "    mdl.add(y != z)\n",
    "    \n",
    "    sol = mdl.solve()\n",
    "    sol.print_solution()\n",
    "\n",
    "    \n",
    "model_1()"
   ]
  },
  {
   "cell_type": "markdown",
   "metadata": {},
   "source": [
    "\n",
    "How many failures did the solver encounter? \n",
    "\n"
   ]
  },
  {
   "cell_type": "markdown",
   "metadata": {},
   "source": [
    "6 failures "
   ]
  },
  {
   "cell_type": "markdown",
   "metadata": {},
   "source": [
    "**Exercice 3**: Create a new model (called model_2), similar to the previous one, however using one Alldifferent constraint (look for all_diff in the documentation) and solve it."
   ]
  },
  {
   "cell_type": "code",
   "execution_count": 8,
   "metadata": {},
   "outputs": [
    {
     "name": "stdout",
     "output_type": "stream",
     "text": [
      "/tmp/ipykernel_6064/873053615.py:10(stream:17:1): Warning: The constraint is always false, the model is infeasible.\n",
      "                                                             allDiff([x_0, x_1, x_2, x_3])\n",
      " ! ----------------------------------------------------------------------------\n",
      " ! Satisfiability problem - 4 variables, 1 constraint\n",
      " ! Workers              = 1\n",
      " ! Presolve             = Off\n",
      " ! SearchType           = DepthFirst\n",
      " ! Initial process time : 0.00s (0.00s extraction + 0.00s propagation)\n",
      " !  . Log search space  : 6.3 (before), 6.3 (after)\n",
      " !  . Memory usage      : 266.8 kB (before), 266.8 kB (after)\n",
      " ! Using sequential search.\n",
      " ! ----------------------------------------------------------------------------\n",
      " !               Branches  Non-fixed            Branch decision\n",
      " ! ----------------------------------------------------------------------------\n",
      " ! Search completed, model has no solution.\n",
      " ! ----------------------------------------------------------------------------\n",
      " ! Number of branches     : 0\n",
      " ! Number of fails        : 1\n",
      " ! Total memory usage     : 509.5 kB (469.8 kB CP Optimizer + 39.7 kB Concert)\n",
      " ! Time spent in solve    : 0.00s (0.00s engine + 0.00s extraction)\n",
      " ! Search speed (br. / s) : 0\n",
      " ! ----------------------------------------------------------------------------\n",
      "-------------------------------------------------------------------------------\n",
      "Model constraints: 1, variables: integer: 4, interval: 0, sequence: 0\n",
      "Solve status: Infeasible\n",
      "Search status: SearchCompleted, stop cause: SearchHasNotBeenStopped\n",
      "Solve time: 0 sec\n",
      "-------------------------------------------------------------------------------\n",
      "No solution data\n"
     ]
    }
   ],
   "source": [
    "def model_2():\n",
    "    \n",
    "    ##Modele : \n",
    "    mdl = CpoModel(name='Modèle 1')\n",
    "    \n",
    "    ##Variables : \n",
    "    w, x, y, z = mdl.integer_var_list(4, 1, 3, 'x')\n",
    "    \n",
    "    ##Contraintes\n",
    "    mdl.add(all_diff(w,x,y,z))\n",
    "    \n",
    "    sol = mdl.solve()\n",
    "    sol.print_solution()\n",
    "\n",
    "    \n",
    "model_2()"
   ]
  },
  {
   "cell_type": "markdown",
   "metadata": {},
   "source": [
    "What is the size of the search tree explored? How can you explain this? "
   ]
  },
  {
   "cell_type": "raw",
   "metadata": {},
   "source": [
    "0 because the the constraint with allDiff make it clear that it is not possible to have a solution when we have 4 variables and only three values possible. "
   ]
  },
  {
   "cell_type": "markdown",
   "metadata": {},
   "source": [
    "We will push this observation to a larger scale. \n",
    "\n",
    "**Exercice 3**: Let $n$ be a natural number and consider the following CSP: \n",
    "\n",
    "- Variables $x_1, x_2, \\ldots x_n$\n",
    "- Domains: $\\forall i \\in [1,n], \\cal{D}(x_i) = \\{1, 2 , \\ldots n-1\\}$ \n",
    "- Constraints: $\\forall i \\neq j,  x_i \\ne x_j$\n"
   ]
  },
  {
   "cell_type": "markdown",
   "metadata": {},
   "source": [
    "Without using the solver, is this problem satisfiable? Why? "
   ]
  },
  {
   "cell_type": "raw",
   "metadata": {},
   "source": [
    "No because there are more variables than values in the domains"
   ]
  },
  {
   "cell_type": "markdown",
   "metadata": {},
   "source": [
    "Write a function model_decomposition(n) that takes as input an integer $n$ and returns the CSP model of this problem using only binary inequalities (i.e., no global constraints)"
   ]
  },
  {
   "cell_type": "code",
   "execution_count": 9,
   "metadata": {},
   "outputs": [
    {
     "name": "stdout",
     "output_type": "stream",
     "text": [
      " ! ----------------------------------------------------------------------------\n",
      " ! Satisfiability problem - 3 variables, 6 constraints\n",
      " ! Workers              = 1\n",
      " ! Presolve             = Off\n",
      " ! SearchType           = DepthFirst\n",
      " ! Initial process time : 0.00s (0.00s extraction + 0.00s propagation)\n",
      " !  . Log search space  : 4.8 (before), 4.8 (after)\n",
      " !  . Memory usage      : 266.8 kB (before), 266.8 kB (after)\n",
      " ! Using sequential search.\n",
      " ! ----------------------------------------------------------------------------\n",
      " !               Branches  Non-fixed            Branch decision\n",
      " *                      2  0.00s                  2  = x_2\n",
      " ! ----------------------------------------------------------------------------\n",
      " ! Search completed, 1 solution found.\n",
      " ! ----------------------------------------------------------------------------\n",
      " ! Number of branches     : 2\n",
      " ! Number of fails        : 0\n",
      " ! Total memory usage     : 540.2 kB (500.5 kB CP Optimizer + 39.6 kB Concert)\n",
      " ! Time spent in solve    : 0.00s (0.00s engine + 0.00s extraction)\n",
      " ! Search speed (br. / s) : 200.0\n",
      " ! ----------------------------------------------------------------------------\n",
      "-------------------------------------------------------------------------------\n",
      "Model constraints: 6, variables: integer: 3, interval: 0, sequence: 0\n",
      "Solve status: Feasible\n",
      "Search status: SearchCompleted, stop cause: SearchHasNotBeenStopped\n",
      "Solve time: 0 sec\n",
      "-------------------------------------------------------------------------------\n",
      "Variables:\n",
      "   x_0 = 1\n",
      "   x_1 = 3\n",
      "   x_2 = 2\n"
     ]
    }
   ],
   "source": [
    "def model_decomposition(n):\n",
    "    ##Modele : \n",
    "    mdl = CpoModel(name='ModèleDecomp')\n",
    "    \n",
    "    ##Variables : \n",
    "    x = mdl.integer_var_list(n, 1, n, 'x')\n",
    "    \n",
    "    ##Contraintes\n",
    "    for i in range(0,n,1):\n",
    "        for j in range(0,n,1):\n",
    "                if (i != j):\n",
    "                    mdl.add(x[j] != x[i])\n",
    "    return mdl\n",
    "    \n",
    "mdl = model_decomposition(3)\n",
    "sol = mdl.solve()\n",
    "sol.print_solution()"
   ]
  },
  {
   "cell_type": "markdown",
   "metadata": {},
   "source": [
    "Call this function for $n= 10$ then solve this problem and plots the dlifferent statistics. How many nodes did the solver explore? What is the CPU time? "
   ]
  },
  {
   "cell_type": "code",
   "execution_count": null,
   "metadata": {},
   "outputs": [],
   "source": []
  },
  {
   "cell_type": "markdown",
   "metadata": {},
   "source": [
    "Write a function model_using_alldiff(n) that takes as input an integer $n$ and returns the CSP model of this problem using only one ALLDifferent constraint.\n"
   ]
  },
  {
   "cell_type": "code",
   "execution_count": null,
   "metadata": {},
   "outputs": [],
   "source": []
  },
  {
   "cell_type": "markdown",
   "metadata": {},
   "source": [
    "Call this function for  n=10  then solve this problem and print the dlifferent statistics. How many nodes did the solver explore? What is the CPU time? "
   ]
  },
  {
   "cell_type": "code",
   "execution_count": null,
   "metadata": {},
   "outputs": [],
   "source": []
  },
  {
   "cell_type": "markdown",
   "metadata": {},
   "source": [
    "Do you start to appretiate global constraints? Why?  "
   ]
  },
  {
   "cell_type": "raw",
   "metadata": {},
   "source": []
  },
  {
   "cell_type": "markdown",
   "metadata": {},
   "source": [
    "We will evaluate properly the model using the decomposition model_decomposition(n) with the model using the global constraint model_using_alldiff(n). For this reason we will increase the value of $n$ from 3 to $20$ and plot the runtime and the number of nodes for each model. \n",
    "\n",
    "In order to keep the runtime under control, we will limit the solver to 15 seconds per call using \n",
    "\n",
    "```\n",
    "solve( TimeLimit=15, LogPeriod=100000)\n",
    "```\n",
    "\n",
    "You can use additionnal parameter as mentionned in the documentation such as \n",
    "LogVerbosity taht can gave the values ['Quiet', 'Terse', 'Normal', 'Verbose'], and LogPeriod used fot the solver log in size. You can play with these arguments\n",
    "\n",
    "Have a look at the different parameters we can indicate to the solve function. A better and modular way to play with parameters is to use CpoParameters. \n",
    "\n",
    "Example : \n",
    "\n",
    "```\n",
    "from docplex.cp.parameters import CpoParameters\n",
    "\n",
    "\n",
    "params = CpoParameters(TimeLimit=10, LogVerbosity='Quiet’, LogPeriod=900000)\n",
    "\n",
    "\n",
    "••• \n",
    "sol = model.solve(TimeLimit= params.TimeLimit , LogVerbosity = params.LogPeriod )\n",
    "\n",
    "\n",
    "```\n",
    "\n",
    "\n",
    "When a solver hits the time timit, it will simply stop the search and says that it couldn't solve the problem within the time limit. \n",
    "\n",
    "Write a function $run(model, params)$ that run the solver on the model $model$ using the parameters $params$. The function returns the tuple of statistics [number of nodes, total runtime, search status]"
   ]
  },
  {
   "cell_type": "code",
   "execution_count": null,
   "metadata": {},
   "outputs": [],
   "source": []
  },
  {
   "cell_type": "markdown",
   "metadata": {},
   "source": [
    "Using the $run(model, params)$ function, run the two models model_decomposition(n) and model_using_alldiff(n) for $n \\in [3,20]$ using a maximim timelimit of $15$s "
   ]
  },
  {
   "cell_type": "code",
   "execution_count": null,
   "metadata": {},
   "outputs": [],
   "source": []
  },
  {
   "cell_type": "markdown",
   "metadata": {},
   "source": [
    "Give two plots to compare the two models. The first one is to evalue the runtime and the second one to to evalute the size of the search tree. \n",
    "\n",
    "Compare the performances of these models? "
   ]
  },
  {
   "cell_type": "code",
   "execution_count": null,
   "metadata": {},
   "outputs": [],
   "source": []
  },
  {
   "cell_type": "markdown",
   "metadata": {},
   "source": [
    "Using the model_alldiff(n), solve this problem for $n=  \\{10, 100, 1000, 10000, 100000 \\}$. Whar are the values of the runtime and the number of nodes? "
   ]
  },
  {
   "cell_type": "code",
   "execution_count": null,
   "metadata": {},
   "outputs": [],
   "source": []
  },
  {
   "cell_type": "markdown",
   "metadata": {},
   "source": [
    "What's your overall impression ? what did you learn today? "
   ]
  },
  {
   "cell_type": "raw",
   "metadata": {},
   "source": []
  },
  {
   "cell_type": "code",
   "execution_count": null,
   "metadata": {},
   "outputs": [],
   "source": []
  }
 ],
 "metadata": {
  "kernelspec": {
   "display_name": "Python (CPLEX)",
   "language": "python",
   "name": "cplex"
  },
  "language_info": {
   "codemirror_mode": {
    "name": "ipython",
    "version": 3
   },
   "file_extension": ".py",
   "mimetype": "text/x-python",
   "name": "python",
   "nbconvert_exporter": "python",
   "pygments_lexer": "ipython3",
   "version": "3.7.13"
  }
 },
 "nbformat": 4,
 "nbformat_minor": 2
}
